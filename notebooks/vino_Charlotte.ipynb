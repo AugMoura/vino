{
 "cells": [
  {
   "cell_type": "code",
   "execution_count": null,
   "id": "83e28095",
   "metadata": {},
   "outputs": [],
   "source": [
    "import pandas as pd\n",
    "import numpy as np\n",
    "from sklearn.model "
   ]
  }
 ],
 "metadata": {
  "kernelspec": {
   "display_name": "shims",
   "language": "python",
   "name": "python3"
  },
  "language_info": {
   "codemirror_mode": {
    "name": "ipython",
    "version": 3
   },
   "file_extension": ".py",
   "mimetype": "text/x-python",
   "name": "python",
   "nbconvert_exporter": "python",
   "pygments_lexer": "ipython3",
   "version": "3.8.12 (default, Aug 20 2022, 14:53:53) \n[Clang 13.1.6 (clang-1316.0.21.2.5)]"
  },
  "toc": {
   "base_numbering": 1,
   "nav_menu": {},
   "number_sections": true,
   "sideBar": true,
   "skip_h1_title": false,
   "title_cell": "Table of Contents",
   "title_sidebar": "Contents",
   "toc_cell": false,
   "toc_position": {},
   "toc_section_display": true,
   "toc_window_display": false
  },
  "vscode": {
   "interpreter": {
    "hash": "effeb75f716fa1f3fb1991f59cd8bfd7d3fb097e8b9eb2925266ac09a8b74840"
   }
  }
 },
 "nbformat": 4,
 "nbformat_minor": 5
}
