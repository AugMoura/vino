{
 "cells": [
  {
   "cell_type": "markdown",
   "id": "51d08ead",
   "metadata": {},
   "source": [
    "# Merge 130k dataset w/ clean description"
   ]
  },
  {
   "cell_type": "code",
   "execution_count": 8,
   "id": "c6971b73",
   "metadata": {
    "collapsed": true
   },
   "outputs": [
    {
     "name": "stdout",
     "output_type": "stream",
     "text": [
      "Collecting openpyxl\n",
      "  Downloading openpyxl-3.0.10-py2.py3-none-any.whl (242 kB)\n",
      "\u001b[2K     \u001b[90m━━━━━━━━━━━━━━━━━━━━━━━━━━━━━━━━━━━━━━━\u001b[0m \u001b[32m242.1/242.1 kB\u001b[0m \u001b[31m1.4 MB/s\u001b[0m eta \u001b[36m0:00:00\u001b[0ma \u001b[36m0:00:01\u001b[0m\n",
      "\u001b[?25hCollecting et-xmlfile\n",
      "  Downloading et_xmlfile-1.1.0-py3-none-any.whl (4.7 kB)\n",
      "Installing collected packages: et-xmlfile, openpyxl\n",
      "Successfully installed et-xmlfile-1.1.0 openpyxl-3.0.10\n"
     ]
    }
   ],
   "source": [
    "!pip install openpyxl"
   ]
  },
  {
   "cell_type": "code",
   "execution_count": 1,
   "id": "9021e51c",
   "metadata": {},
   "outputs": [
    {
     "name": "stderr",
     "output_type": "stream",
     "text": [
      "[nltk_data] Downloading package stopwords to\n",
      "[nltk_data]     /home/augmoura/nltk_data...\n",
      "[nltk_data]   Package stopwords is already up-to-date!\n",
      "[nltk_data] Downloading package punkt to /home/augmoura/nltk_data...\n",
      "[nltk_data]   Package punkt is already up-to-date!\n",
      "[nltk_data] Downloading package wordnet to /home/augmoura/nltk_data...\n",
      "[nltk_data]   Package wordnet is already up-to-date!\n",
      "[nltk_data] Downloading package omw-1.4 to /home/augmoura/nltk_data...\n",
      "[nltk_data]   Package omw-1.4 is already up-to-date!\n"
     ]
    },
    {
     "data": {
      "text/plain": [
       "True"
      ]
     },
     "execution_count": 1,
     "metadata": {},
     "output_type": "execute_result"
    }
   ],
   "source": [
    "import pandas as pd\n",
    "import numpy as np\n",
    "import string\n",
    "from sklearn.impute import KNNImputer\n",
    "import nltk\n",
    "from nltk.tokenize import word_tokenize\n",
    "from nltk.corpus import stopwords\n",
    "from nltk.stem import WordNetLemmatizer\n",
    "from sklearn.feature_extraction.text import TfidfVectorizer\n",
    "from sklearn.decomposition import LatentDirichletAllocation\n",
    "\n",
    "nltk.download('stopwords')\n",
    "nltk.download('punkt')\n",
    "nltk.download('wordnet')\n",
    "nltk.download('omw-1.4')"
   ]
  },
  {
   "cell_type": "code",
   "execution_count": 2,
   "id": "b03ba1bd",
   "metadata": {},
   "outputs": [],
   "source": [
    "df = pd.read_csv(\"../datasets/winemag-data-130k-v2.csv\")\n",
    "df_clean_description = pd.read_csv(\"../datasets/clean_description.csv\")"
   ]
  },
  {
   "cell_type": "code",
   "execution_count": 3,
   "id": "2035f729",
   "metadata": {},
   "outputs": [],
   "source": [
    "df_clean_description = df_clean_description.drop([\"Unnamed: 0\"], axis=1)"
   ]
  },
  {
   "cell_type": "code",
   "execution_count": 4,
   "id": "2c3b3215",
   "metadata": {
    "scrolled": true
   },
   "outputs": [],
   "source": [
    "df.index = df_clean_description.index\n",
    "\n",
    "df = pd.concat([df, df_clean_description], axis=1)"
   ]
  },
  {
   "cell_type": "markdown",
   "id": "34687156",
   "metadata": {},
   "source": [
    "# Add country names to missing countries"
   ]
  },
  {
   "cell_type": "code",
   "execution_count": 6,
   "id": "7cffad3e",
   "metadata": {},
   "outputs": [],
   "source": [
    "#Import of updated file (including missing countries & regions)\n",
    "_ = pd.read_excel('../working_files/missing_countries.xlsx', index_col=0)"
   ]
  },
  {
   "cell_type": "code",
   "execution_count": 7,
   "id": "50d7756b",
   "metadata": {},
   "outputs": [],
   "source": [
    "#\n",
    "index_list = _.index.tolist()\n",
    "\n",
    "#drop of lines to be updated in original file\n",
    "df = df.drop(index=index_list)\n",
    "\n",
    "#merge of original file (with removed prior lines) + new updated lines\n",
    "df = pd.concat([df, _], axis=0)\n",
    "\n",
    "#removing the repeated index column (0)\n",
    "df = df.iloc[:, 1:]"
   ]
  },
  {
   "cell_type": "markdown",
   "id": "b5aa6bea",
   "metadata": {},
   "source": [
    "# Clear nulls"
   ]
  },
  {
   "cell_type": "code",
   "execution_count": 9,
   "id": "56717055",
   "metadata": {},
   "outputs": [],
   "source": [
    "#Replace the null of region_1,taster_name, taster_twitter_handle\n",
    "df['region_1'] = df['region_1'].fillna('unknown')\n",
    "df['taster_name'] = df['taster_name'].fillna('unknown')\n",
    "df['taster_twitter_handle'] = df['taster_twitter_handle'].fillna('unknown')\n",
    "df[\"designation\"] = df[\"designation\"].fillna('unknown')\n",
    "df = df.drop([\"region_2\"], axis=1)"
   ]
  },
  {
   "cell_type": "code",
   "execution_count": 10,
   "id": "2a341d5b",
   "metadata": {},
   "outputs": [],
   "source": [
    "#Replace the null of price\n",
    "imputer = KNNImputer(n_neighbors=5)\n",
    "X = df[[\"points\", \"price\"]]\n",
    "\n",
    "# Fit and transform the prices\n",
    "df[[\"points\", \"price\"]] = imputer.fit_transform(X)"
   ]
  },
  {
   "cell_type": "markdown",
   "id": "50a6c8f0",
   "metadata": {},
   "source": [
    "# Export initial data source"
   ]
  },
  {
   "cell_type": "code",
   "execution_count": 11,
   "id": "32a83174",
   "metadata": {},
   "outputs": [],
   "source": [
    "df.to_csv(\"../datasets/clean_dataset.csv\")"
   ]
  },
  {
   "cell_type": "markdown",
   "id": "f4c9fb7a",
   "metadata": {},
   "source": [
    "# Perform LDA analysis in clean description"
   ]
  },
  {
   "cell_type": "code",
   "execution_count": null,
   "id": "911a2890",
   "metadata": {},
   "outputs": [],
   "source": [
    "cleaned_doc = df[\"clean_description_2\"]"
   ]
  },
  {
   "cell_type": "code",
   "execution_count": null,
   "id": "d5e8ce20",
   "metadata": {},
   "outputs": [],
   "source": [
    "cleaned_doc"
   ]
  },
  {
   "cell_type": "code",
   "execution_count": null,
   "id": "587e7fe3",
   "metadata": {},
   "outputs": [],
   "source": [
    "vectorizer = TfidfVectorizer(max_df = 0.5, min_df = 0.05)\n",
    "\n",
    "vectorized_doc = vectorizer.fit_transform(cleaned_doc)\n",
    "vectorized_doc = pd.DataFrame(\n",
    "    vectorized_doc.toarray(),\n",
    "    columns=vectorizer.get_feature_names_out()\n",
    ")\n",
    "\n",
    "vectorized_doc"
   ]
  },
  {
   "cell_type": "code",
   "execution_count": null,
   "id": "6ab02527",
   "metadata": {},
   "outputs": [],
   "source": [
    "lda_model = LatentDirichletAllocation(n_components=5, max_iter=100)\n",
    "\n",
    "lda_model.fit(vectorized_doc)"
   ]
  },
  {
   "cell_type": "code",
   "execution_count": null,
   "id": "04b508a4",
   "metadata": {},
   "outputs": [],
   "source": [
    "topic_mixture = lda_model.transform(vectorized_doc)"
   ]
  },
  {
   "cell_type": "code",
   "execution_count": null,
   "id": "d0a0a98a",
   "metadata": {},
   "outputs": [],
   "source": [
    "topics = pd.DataFrame(\n",
    "    topic_mixture,\n",
    "    columns=[\"topic_0\", \"topic_1\", \"topic_2\", \"topic_3\", \"topic_4\"]\n",
    ")\n",
    "\n",
    "topics.head()"
   ]
  },
  {
   "cell_type": "code",
   "execution_count": null,
   "id": "944a1740",
   "metadata": {},
   "outputs": [],
   "source": [
    "def print_topics(lda_model, vectorizer, top_words):\n",
    "    # 1. TOPIC MIXTURE OF WORDS FOR EACH TOPIC\n",
    "    topic_mixture = pd.DataFrame(\n",
    "        lda_model.components_,\n",
    "        columns = vectorizer.get_feature_names_out()\n",
    "    )\n",
    "    \n",
    "    # 2. FINDING THE TOP WORDS FOR EACH TOPIC\n",
    "    ## Number of topics\n",
    "    n_components = topic_mixture.shape[0]\n",
    "\n",
    "    ## Top words for each topic\n",
    "    for topic in range(n_components):\n",
    "        print(\"-\"*10)\n",
    "        print(f\"For topic {topic}, here are the top {top_words} words with weights:\")\n",
    "\n",
    "        topic_df = topic_mixture.iloc[topic]\\\n",
    "            .sort_values(ascending = False).head(top_words)\n",
    "        \n",
    "        print(round(topic_df,3))\n",
    "\n",
    "print_topics(lda_model, vectorizer, 5)"
   ]
  },
  {
   "cell_type": "markdown",
   "id": "5be0238d",
   "metadata": {},
   "source": [
    "# Concatenating df with topics"
   ]
  },
  {
   "cell_type": "code",
   "execution_count": null,
   "id": "70080d8b",
   "metadata": {},
   "outputs": [],
   "source": [
    "df.index = topics.index\n",
    "\n",
    "df = pd.concat([df, topics], axis=1)"
   ]
  },
  {
   "cell_type": "code",
   "execution_count": null,
   "id": "76da2b49",
   "metadata": {},
   "outputs": [],
   "source": []
  }
 ],
 "metadata": {
  "kernelspec": {
   "display_name": "Python 3 (ipykernel)",
   "language": "python",
   "name": "python3"
  },
  "language_info": {
   "codemirror_mode": {
    "name": "ipython",
    "version": 3
   },
   "file_extension": ".py",
   "mimetype": "text/x-python",
   "name": "python",
   "nbconvert_exporter": "python",
   "pygments_lexer": "ipython3",
   "version": "3.10.6"
  },
  "toc": {
   "base_numbering": 1,
   "nav_menu": {},
   "number_sections": true,
   "sideBar": true,
   "skip_h1_title": false,
   "title_cell": "Table of Contents",
   "title_sidebar": "Contents",
   "toc_cell": false,
   "toc_position": {},
   "toc_section_display": true,
   "toc_window_display": false
  }
 },
 "nbformat": 4,
 "nbformat_minor": 5
}
