{
 "cells": [
  {
   "cell_type": "code",
   "execution_count": null,
   "id": "9678665a",
   "metadata": {},
   "outputs": [],
   "source": [
    "#pip install openpyxl"
   ]
  },
  {
   "cell_type": "code",
   "execution_count": 31,
   "id": "e0a5f3fb-7fa8-46f6-8ada-e02112c97af3",
   "metadata": {},
   "outputs": [],
   "source": [
    "import os\n",
    "import pandas as pd"
   ]
  },
  {
   "cell_type": "code",
   "execution_count": 33,
   "id": "a82a881e",
   "metadata": {},
   "outputs": [],
   "source": [
    "df=pd.read_csv('../datasets/winemag-data-130k-v2.csv')"
   ]
  },
  {
   "cell_type": "code",
   "execution_count": 28,
   "id": "2bec4ec3",
   "metadata": {},
   "outputs": [],
   "source": [
    "#Saving as EXCEL\n",
    "df[(df[\"country\"].isnull()) | (df[\"province\"].isnull())].to_excel(\"/Users/Steven/code/HelloWorld235/project/extract_63_missing.xlsx\")"
   ]
  },
  {
   "cell_type": "code",
   "execution_count": 66,
   "id": "c9be7971",
   "metadata": {},
   "outputs": [],
   "source": [
    "#Import of updated file (including missing countries & regions)\n",
    "df2 = pd.read_excel(r'/Users/Steven/code/HelloWorld235/project/extract_63_missing_updated2.xlsx', index_col=0)"
   ]
  },
  {
   "cell_type": "code",
   "execution_count": 51,
   "id": "3d4a78ef",
   "metadata": {},
   "outputs": [],
   "source": [
    "#\n",
    "index_list = df2.index.tolist()\n",
    "\n",
    "#drop of lines to be updated in original file\n",
    "df = df.drop(index=index_list)\n",
    "\n",
    "#merge of original file (with removed prior lines) + new updated lines\n",
    "df3 = pd.concat([df,df2], axis=0)\n",
    "\n",
    "#removing the repeated index column (0)\n",
    "df3 = df3.iloc[:, 1:]"
   ]
  }
 ],
 "metadata": {
  "kernelspec": {
   "display_name": "Python 3 (ipykernel)",
   "language": "python",
   "name": "python3"
  },
  "language_info": {
   "codemirror_mode": {
    "name": "ipython",
    "version": 3
   },
   "file_extension": ".py",
   "mimetype": "text/x-python",
   "name": "python",
   "nbconvert_exporter": "python",
   "pygments_lexer": "ipython3",
   "version": "3.8.12"
  },
  "toc": {
   "base_numbering": 1,
   "nav_menu": {},
   "number_sections": true,
   "sideBar": true,
   "skip_h1_title": false,
   "title_cell": "Table of Contents",
   "title_sidebar": "Contents",
   "toc_cell": false,
   "toc_position": {},
   "toc_section_display": true,
   "toc_window_display": false
  }
 },
 "nbformat": 4,
 "nbformat_minor": 5
}
